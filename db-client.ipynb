{
 "cells": [
  {
   "cell_type": "code",
   "execution_count": 1,
   "id": "3ebed869-37da-40f6-b9d0-0670a706dde2",
   "metadata": {},
   "outputs": [],
   "source": [
    "import mysql.connector as connector"
   ]
  },
  {
   "cell_type": "markdown",
   "id": "25592e26-5f8a-4ffb-883d-c525f3418b2e",
   "metadata": {},
   "source": [
    "# Task 1\n",
    "Establish a connection with the Database"
   ]
  },
  {
   "cell_type": "code",
   "execution_count": 3,
   "id": "424f6c97-bf67-4c19-b8b3-2bc9271edbaa",
   "metadata": {},
   "outputs": [],
   "source": [
    "# Establish a connection\n",
    "connection = connector.connect(user = 'little_lemon_dev', password = 'password', database = 'little_lemon_db')"
   ]
  },
  {
   "cell_type": "markdown",
   "id": "1b1032f6-de8c-4054-8eab-c0d360e5bd35",
   "metadata": {},
   "source": [
    "# Task 2\n",
    "Query the database to show all tables within the database."
   ]
  },
  {
   "cell_type": "code",
   "execution_count": 4,
   "id": "6bcfa719-35a1-4c0a-8b20-d0b022c14957",
   "metadata": {},
   "outputs": [
    {
     "name": "stdout",
     "output_type": "stream",
     "text": [
      "('OrdersView',)\n",
      "('bookings',)\n",
      "('customers',)\n",
      "('deliveries',)\n",
      "('menu_items',)\n",
      "('menus',)\n",
      "('orders',)\n",
      "('staff',)\n"
     ]
    },
    {
     "data": {
      "text/plain": [
       "True"
      ]
     },
     "execution_count": 4,
     "metadata": {},
     "output_type": "execute_result"
    }
   ],
   "source": [
    "cursor = connection.cursor()\n",
    "cursor.execute('SHOW TABLES;')\n",
    "for row in cursor.fetchall():\n",
    "    print(row)\n",
    "cursor.close()"
   ]
  },
  {
   "cell_type": "markdown",
   "id": "0d2702bf-dfa7-4c47-bca7-8785ae59eb68",
   "metadata": {},
   "source": [
    "# Task 3\n",
    "Little Lemon need you to return specific details from your database. They require the full name and contact details for every customer that has placed an order greater than $60 for a promotional campaign. "
   ]
  },
  {
   "cell_type": "code",
   "execution_count": 6,
   "id": "240154e3-fb2a-4a31-b282-b32b6131efb9",
   "metadata": {},
   "outputs": [
    {
     "name": "stdout",
     "output_type": "stream",
     "text": [
      "('id', 'name', 'phone_number', 'total_cost')\n",
      "(6, 'Hiroki Yamane', '666666', Decimal('250'))\n",
      "(1, 'Vanessa McCarthy', '111111', Decimal('220'))\n",
      "(3, 'Anna Iversen', '333333', Decimal('180'))\n",
      "(5, 'Diana Pinto', '555555', Decimal('150'))\n",
      "(4, 'Joakim Iversen', '444444', Decimal('120'))\n",
      "(2, 'Marcos Romero', '222222', Decimal('80'))\n"
     ]
    },
    {
     "data": {
      "text/plain": [
       "True"
      ]
     },
     "execution_count": 6,
     "metadata": {},
     "output_type": "execute_result"
    }
   ],
   "source": [
    "cursor = connection.cursor()\n",
    "cursor.execute(\"\"\"\n",
    "SELECT customers.id, customers.name, customers.phone_number, orders.total_cost\n",
    "FROM orders INNER JOIN customers\n",
    "ON orders.customer_id = customers.id\n",
    "WHERE orders.total_cost > 60\n",
    "\"\"\")\n",
    "print(cursor.column_names)\n",
    "for row in cursor.fetchall():\n",
    "    print(row)\n",
    "cursor.close()"
   ]
  }
 ],
 "metadata": {
  "kernelspec": {
   "display_name": "Python 3 (ipykernel)",
   "language": "python",
   "name": "python3"
  },
  "language_info": {
   "codemirror_mode": {
    "name": "ipython",
    "version": 3
   },
   "file_extension": ".py",
   "mimetype": "text/x-python",
   "name": "python",
   "nbconvert_exporter": "python",
   "pygments_lexer": "ipython3",
   "version": "3.10.12"
  }
 },
 "nbformat": 4,
 "nbformat_minor": 5
}
